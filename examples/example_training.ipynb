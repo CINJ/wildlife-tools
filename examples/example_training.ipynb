{
 "cells": [
  {
   "cell_type": "code",
   "execution_count": 1,
   "id": "637facd4",
   "metadata": {},
   "outputs": [],
   "source": [
    "from itertools import chain\n",
    "import timm\n",
    "import pandas as pd\n",
    "import torchvision.transforms as T\n",
    "from torch.optim import SGD\n",
    "from torch.optim.lr_scheduler import CosineAnnealingLR\n",
    "\n",
    "from wildlife_tools.data import WildlifeDataset, SplitMetadata\n",
    "from wildlife_tools.train import ArcFaceLoss, BasicTrainer"
   ]
  },
  {
   "cell_type": "code",
   "execution_count": 3,
   "id": "7072ca67",
   "metadata": {},
   "outputs": [
    {
     "name": "stderr",
     "output_type": "stream",
     "text": [
      "Epoch 0: : 1it [00:01,  1.47s/it]\n",
      "Epoch 1: : 1it [00:02,  2.04s/it]\n",
      "Epoch 2: : 1it [00:02,  2.57s/it]\n",
      "Epoch 3: : 1it [00:02,  2.15s/it]\n",
      "Epoch 4: : 1it [00:02,  2.35s/it]\n",
      "Epoch 5: : 1it [00:02,  2.05s/it]\n",
      "Epoch 6: : 1it [00:02,  2.79s/it]\n",
      "Epoch 7: : 1it [00:02,  2.54s/it]\n",
      "Epoch 8: : 1it [00:02,  2.96s/it]\n",
      "Epoch 9: : 1it [00:02,  2.06s/it]\n",
      "Epoch 10: : 1it [00:02,  2.32s/it]\n",
      "Epoch 11: : 1it [00:02,  2.12s/it]\n",
      "Epoch 12: : 1it [00:02,  2.07s/it]\n",
      "Epoch 13: : 1it [00:02,  2.09s/it]\n",
      "Epoch 14: : 1it [00:02,  2.22s/it]\n",
      "Epoch 15: : 1it [00:02,  2.08s/it]\n",
      "Epoch 16: : 1it [00:02,  2.09s/it]\n",
      "Epoch 17: : 1it [00:02,  2.23s/it]\n",
      "Epoch 18: : 1it [00:02,  2.30s/it]\n",
      "Epoch 19: : 1it [00:02,  2.06s/it]\n"
     ]
    }
   ],
   "source": [
    "metadata = pd.read_csv('ExampleDataset/metadata.csv')\n",
    "image_root = 'ExampleDataset'\n",
    "\n",
    "transform = T.Compose([\n",
    "    T.Resize(size=256),\n",
    "    T.CenterCrop(size=(224, 224)),\n",
    "    T.ToTensor(),\n",
    "])\n",
    "\n",
    "dataset = WildlifeDataset(\n",
    "    metadata = metadata, \n",
    "    root = image_root,\n",
    "    split = SplitMetadata('split', 'train'),\n",
    "    transform=transform\n",
    ")\n",
    "\n",
    "# MegaDescriptor-T backbone from HuggingFace Hub\n",
    "backbone = timm.create_model('hf-hub:BVRA/wildlife-mega-tiny', num_classes=0, pretrained=True)\n",
    "\n",
    "# Arcface loss - needs backbone output size and number of classes.\n",
    "objective = ArcFaceLoss(num_classes=dataset.num_classes, embedding_size=768, margin=0.5, scale=64)\n",
    "\n",
    "# Optimize parameters in backbone and in objective using single optimizer.\n",
    "params = chain(backbone.parameters(), objective.parameters())\n",
    "optimizer = SGD(params=params, lr=0.001, momentum=0.9)\n",
    "\n",
    "\n",
    "trainer = BasicTrainer(\n",
    "    dataset=dataset,\n",
    "    model=backbone,\n",
    "    objective=objective,\n",
    "    optimizer=optimizer,\n",
    "    epochs=20,\n",
    "    device='cpu',\n",
    ")\n",
    "\n",
    "trainer.train()"
   ]
  },
  {
   "cell_type": "code",
   "execution_count": null,
   "id": "6be28bd2",
   "metadata": {},
   "outputs": [],
   "source": []
  },
  {
   "cell_type": "code",
   "execution_count": null,
   "id": "5193dd33",
   "metadata": {},
   "outputs": [],
   "source": []
  },
  {
   "cell_type": "markdown",
   "id": "676ed674",
   "metadata": {},
   "source": [
    "# Yaml config\n",
    "Equivalent cofiguration can be achieved using following Yaml configuration:"
   ]
  },
  {
   "cell_type": "code",
   "execution_count": 15,
   "id": "de82caaa",
   "metadata": {},
   "outputs": [
    {
     "name": "stderr",
     "output_type": "stream",
     "text": [
      "/mnt/appl/software/PyTorch/2.0.1-foss-2022a-CUDA-11.7.0/lib/python3.10/site-packages/torch/functional.py:504: UserWarning: torch.meshgrid: in an upcoming release, it will be required to pass the indexing argument. (Triggered internally at /tmp/eb-build/PyTorch/2.0.1/foss-2022a-CUDA-11.7.0/pytorch-v2.0.1/aten/src/ATen/native/TensorShape.cpp:3483.)\n",
      "  return _VF.meshgrid(tensors, **kwargs)  # type: ignore[attr-defined]\n"
     ]
    }
   ],
   "source": [
    "from wildlife_tools.tools import parse_yaml, realize\n",
    "\n",
    "yaml_config = \"\"\"\n",
    "trainer:\n",
    "  method: EmbeddingTrainer\n",
    "  device: cpu\n",
    "  epochs: 20\n",
    "\n",
    "  dataset:\n",
    "    method: WildlifeDataset\n",
    "    metadata: ExampleDataset/metadata.csv\n",
    "    root: ExampleDataset\n",
    "    split:\n",
    "      method: SplitMetadata\n",
    "      col: split\n",
    "      value: train\n",
    "    transform:\n",
    "      method: TransformTorchvision\n",
    "      compose:\n",
    "        - Resize(size=256)\n",
    "        - CenterCrop(size=(224, 224))\n",
    "        - ToTensor()\n",
    "\n",
    "  objective:\n",
    "    method: ArcFaceLoss\n",
    "    margin: 0.5\n",
    "    scale: 64\n",
    "\n",
    "  optimizer:\n",
    "    method: OptimizerSGD\n",
    "    lr: 0.001\n",
    "    momentum: 0.9\n",
    "\n",
    "  backbone:\n",
    "    method: TimmBackbone\n",
    "    model_name: swin_tiny_patch4_window7_224\n",
    "    pretrained: true\n",
    "\"\"\"\n",
    "\n",
    "\n",
    "config = parse_yaml(yaml_config)\n",
    "trainer = realize(config['trainer'])\n",
    "trainer.train()"
   ]
  },
  {
   "cell_type": "code",
   "execution_count": null,
   "id": "b04c04bb",
   "metadata": {},
   "outputs": [],
   "source": []
  },
  {
   "cell_type": "code",
   "execution_count": null,
   "id": "8821408f",
   "metadata": {},
   "outputs": [],
   "source": []
  },
  {
   "cell_type": "code",
   "execution_count": null,
   "id": "4959c544",
   "metadata": {},
   "outputs": [],
   "source": []
  },
  {
   "cell_type": "code",
   "execution_count": null,
   "id": "6917dfd3",
   "metadata": {},
   "outputs": [],
   "source": []
  },
  {
   "cell_type": "code",
   "execution_count": null,
   "id": "32ea7ca3",
   "metadata": {},
   "outputs": [],
   "source": []
  },
  {
   "cell_type": "code",
   "execution_count": null,
   "id": "e8a67406",
   "metadata": {},
   "outputs": [],
   "source": []
  }
 ],
 "metadata": {
  "kernelspec": {
   "display_name": "Python 3 (ipykernel)",
   "language": "python",
   "name": "python3"
  },
  "language_info": {
   "codemirror_mode": {
    "name": "ipython",
    "version": 3
   },
   "file_extension": ".py",
   "mimetype": "text/x-python",
   "name": "python",
   "nbconvert_exporter": "python",
   "pygments_lexer": "ipython3",
   "version": "3.10.4"
  }
 },
 "nbformat": 4,
 "nbformat_minor": 5
}
