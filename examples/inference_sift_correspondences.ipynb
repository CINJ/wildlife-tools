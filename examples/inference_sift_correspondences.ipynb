{
 "cells": [
  {
   "cell_type": "code",
   "execution_count": 2,
   "id": "8de0c8b7",
   "metadata": {
    "scrolled": true
   },
   "outputs": [],
   "source": [
    "import timm\n",
    "import pandas as pd\n",
    "import torchvision.transforms as T\n",
    "\n",
    "from wildlife_tools.data import WildlifeDataset, SplitMetadata\n",
    "from wildlife_tools.features import SIFTFeatures\n",
    "from wildlife_tools.similarity import MatchDescriptors\n",
    "from wildlife_tools.evaluation import KnnClassifier\n"
   ]
  },
  {
   "cell_type": "markdown",
   "id": "02049c82",
   "metadata": {},
   "source": [
    "# Prepare dataset\n",
    "- Load metadata from pandas dataframe\n",
    "- Create two datasets using split information from the metadata \n",
    "    - query - created from test split\n",
    "    - database - created from train subset."
   ]
  },
  {
   "cell_type": "code",
   "execution_count": 3,
   "id": "57e1482c",
   "metadata": {},
   "outputs": [],
   "source": [
    "metadata = pd.read_csv('ExampleDataset/metadata.csv')\n",
    "image_root = 'ExampleDataset'\n",
    "\n",
    "transform = T.Compose([\n",
    "    T.Resize([224, 224]),\n",
    "    T.Grayscale()\n",
    "])\n",
    "\n",
    "dataset_database = WildlifeDataset(\n",
    "    metadata = metadata, \n",
    "    root = image_root,\n",
    "    split = SplitMetadata('split', 'train'),\n",
    "    transform=transform\n",
    ")\n",
    "\n",
    "dataset_query = WildlifeDataset(\n",
    "    metadata = metadata, \n",
    "    root = image_root,\n",
    "    split = SplitMetadata('split', 'test'),\n",
    "    transform=transform\n",
    ")"
   ]
  },
  {
   "cell_type": "markdown",
   "id": "10846eec",
   "metadata": {},
   "source": [
    "# SIFT Feature Extraction\n",
    "\n",
    "This process involves extracting a set of SIFT descriptors for each image in the dataset. \n",
    "\n",
    "The extractor takes a WildlifeDataset object as input and produces a list of arrays, where each array corresponds to an image. These arrays are 2D with a shape of (n_descriptors x 128), where \"n_descriptors\" varies depending on the number of SIFT descriptors extracted for the respective image."
   ]
  },
  {
   "cell_type": "code",
   "execution_count": 4,
   "id": "d03cbcaa",
   "metadata": {},
   "outputs": [
    {
     "name": "stderr",
     "output_type": "stream",
     "text": [
      "100%|█████████████████████████████████████████████████████████████████| 2/2 [00:00<00:00, 21.13it/s]\n",
      "100%|█████████████████████████████████████████████████████████████████| 2/2 [00:00<00:00, 32.26it/s]"
     ]
    },
    {
     "name": "stdout",
     "output_type": "stream",
     "text": [
      "First 5 query features shape: [(238, 128), (260, 128)]\n",
      "First 5 database features shape: [(182, 128), (190, 128)]\n"
     ]
    },
    {
     "name": "stderr",
     "output_type": "stream",
     "text": [
      "\n"
     ]
    }
   ],
   "source": [
    "extractor = SIFTFeatures()\n",
    "query, database = extractor(dataset_query), extractor(dataset_database)\n",
    "\n",
    "print(f'First 5 query features shape: {[i.shape for i in query[:5]]}')\n",
    "print(f'First 5 database features shape: {[i.shape for i in database[:5]]}')"
   ]
  },
  {
   "cell_type": "markdown",
   "id": "62c2f49a",
   "metadata": {},
   "source": [
    "## Similarity and k-nn classification\n",
    "- Calculate similarity between query and database as number of SIFT correspondences after filtering with Low ratio test.\n",
    "    - Output is matrix with shape n_query x n_database.\n",
    "- Use the similarity for KNN classifier\n",
    "    - Output is array of n_query length.\n",
    "    - Values in the array are nearest labels in the database. (with ordinal encoding - indexes of columns in the similarity matrix)."
   ]
  },
  {
   "cell_type": "code",
   "execution_count": 30,
   "id": "8ebcf594",
   "metadata": {},
   "outputs": [
    {
     "name": "stderr",
     "output_type": "stream",
     "text": [
      "100%|████████████████████████████████████████████████████████████████| 4/4 [00:00<00:00, 817.68it/s]"
     ]
    },
    {
     "name": "stdout",
     "output_type": "stream",
     "text": [
      "Number of SIFT correspondences after 0.8 ratio test treshold: \n",
      " [[34. 28.]\n",
      " [30. 32.]]\n"
     ]
    },
    {
     "name": "stderr",
     "output_type": "stream",
     "text": [
      "\n"
     ]
    }
   ],
   "source": [
    "similarity = MatchDescriptors(descriptor_dim=128, thresholds=[0.8])\n",
    "sim = similarity(query, database)\n",
    "\n",
    "print(\"Number of SIFT correspondences after 0.8 ratio test treshold: \\n\", sim[0.8])"
   ]
  },
  {
   "cell_type": "code",
   "execution_count": null,
   "id": "5b157bda",
   "metadata": {},
   "outputs": [],
   "source": []
  },
  {
   "cell_type": "markdown",
   "id": "7cac17cc",
   "metadata": {},
   "source": [
    "# Knn classification"
   ]
  },
  {
   "cell_type": "code",
   "execution_count": 33,
   "id": "4f6739c6",
   "metadata": {},
   "outputs": [
    {
     "name": "stdout",
     "output_type": "stream",
     "text": [
      "1.0\n"
     ]
    }
   ],
   "source": [
    "classifier = KnnClassifier(k=1)\n",
    "predictions = classifier(sim[0.8])\n",
    "acc = sum(predictions == dataset_database.labels) / len(dataset_database.labels)\n",
    "print(acc)"
   ]
  }
 ],
 "metadata": {
  "kernelspec": {
   "display_name": "Python 3 (ipykernel)",
   "language": "python",
   "name": "python3"
  },
  "language_info": {
   "codemirror_mode": {
    "name": "ipython",
    "version": 3
   },
   "file_extension": ".py",
   "mimetype": "text/x-python",
   "name": "python",
   "nbconvert_exporter": "python",
   "pygments_lexer": "ipython3",
   "version": "3.10.4"
  }
 },
 "nbformat": 4,
 "nbformat_minor": 5
}
